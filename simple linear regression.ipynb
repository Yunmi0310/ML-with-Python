{
 "cells": [
  {
   "cell_type": "code",
   "execution_count": 1,
   "metadata": {},
   "outputs": [],
   "source": [
    "import numpy as np\n",
    "import matplotlib.pyplot as plt \n",
    "from mpl_toolkits.mplot3d import Axes3D"
   ]
  },
  {
   "cell_type": "code",
   "execution_count": 3,
   "metadata": {},
   "outputs": [],
   "source": [
    "# generate random input data to train on (usually this is given so here we can skip)\n",
    "n=1000\n",
    "\n",
    "xs=np.random.uniform(low=-10,high=10,size=(n,1))\n",
    "zs=np.random.uniform(-10,10,(n,1))\n",
    "\n",
    "inputs = np.column_stack((xs,zs))"
   ]
  },
  {
   "cell_type": "code",
   "execution_count": 4,
   "metadata": {},
   "outputs": [
    {
     "name": "stdout",
     "output_type": "stream",
     "text": [
      "(1000, 2)\n"
     ]
    }
   ],
   "source": [
    "print(inputs.shape)"
   ]
  },
  {
   "cell_type": "code",
   "execution_count": 5,
   "metadata": {},
   "outputs": [
    {
     "name": "stdout",
     "output_type": "stream",
     "text": [
      "(1000, 1)\n"
     ]
    }
   ],
   "source": [
    "# create the targets we will aim at \n",
    "\n",
    "noise = np.random.uniform(-1,1,(n,1))\n",
    "targets = 2*xs -3*zs+5+noise\n",
    "\n",
    "print(targets.shape)"
   ]
  },
  {
   "cell_type": "code",
   "execution_count": 6,
   "metadata": {},
   "outputs": [
    {
     "name": "stdout",
     "output_type": "stream",
     "text": [
      "[[-0.06556399]\n",
      " [-0.00025482]]\n",
      "[-0.04770963]\n"
     ]
    }
   ],
   "source": [
    "# initialize variables\n",
    "# our initial weights and biases will be picked randomly from the interval[-0.1,0.1]\n",
    "\n",
    "init_range = 0.1 \n",
    "weights = np.random.uniform(-init_range,init_range,size=(2,1))\n",
    "biases = np.random.uniform(-init_range,init_range,size =1)\n",
    "\n",
    "print(weights)\n",
    "print(biases)"
   ]
  },
  {
   "cell_type": "code",
   "execution_count": 7,
   "metadata": {},
   "outputs": [],
   "source": [
    "# set a learning rate\n",
    "learning_rate =0.02"
   ]
  },
  {
   "cell_type": "code",
   "execution_count": 13,
   "metadata": {},
   "outputs": [
    {
     "name": "stdout",
     "output_type": "stream",
     "text": [
      "234.99292108675928\n",
      "37.10651051281783\n",
      "14.605734980361706\n",
      "11.686940237286757\n",
      "10.9691142619287\n",
      "10.51242022997224\n",
      "10.099781822751535\n",
      "9.706381619060808\n",
      "9.328882337046881\n",
      "8.966366814309648\n",
      "8.618209639261254\n",
      "8.283838686873285\n",
      "7.962707671721246\n",
      "7.654292295159918\n",
      "7.3580890586422765\n",
      "7.073614404795555\n",
      "6.800403923876029\n",
      "6.538011595150675\n",
      "6.286009058709202\n",
      "6.043984916153446\n",
      "5.811544058981949\n",
      "5.588307023568524\n",
      "5.3739093716815125\n",
      "5.168001095532183\n",
      "4.970246046381121\n",
      "4.780321385769721\n",
      "4.59791705848097\n",
      "4.422735286369028\n",
      "4.254490082231421\n",
      "4.092906782930069\n",
      "3.937721600999079\n",
      "3.7886811940072636\n",
      "3.6455422509723245\n",
      "3.5080710951515828\n",
      "3.3760433025607295\n",
      "3.2492433355978854\n",
      "3.1274641911748384\n",
      "3.010507062780985\n",
      "2.898181015928357\n",
      "2.7903026764478374\n",
      "2.686695931127732\n",
      "2.587191640205984\n",
      "2.49162736124664\n",
      "2.3998470839498443\n",
      "2.311700975462376\n",
      "2.2270451357729972\n",
      "2.1457413627932445\n",
      "2.0676569267401836\n",
      "1.9926643534528101\n",
      "1.9206412162883066\n",
      "1.8514699362585005\n",
      "1.7850375900801674\n",
      "1.7212357258258657\n",
      "1.6599601858743358\n",
      "1.6011109368714214\n",
      "1.5445919064239306\n",
      "1.4903108262598272\n",
      "1.4381790815987239\n",
      "1.3881115664867498\n",
      "1.3400265448596465\n",
      "1.2938455171072634\n",
      "1.2494930919216136\n",
      "1.2068968632192942\n",
      "1.165987291937333\n",
      "1.1266975925094862\n",
      "1.0889636238376812\n",
      "1.0527237845805846\n",
      "1.0179189125883767\n",
      "0.984492188319537\n",
      "0.9523890420819892\n",
      "0.9215570649471517\n",
      "0.8919459231914779\n",
      "0.863507276125802\n",
      "0.8361946971783507\n",
      "0.8099635981025727\n",
      "0.7847711561860815\n",
      "0.7605762443418491\n",
      "0.7373393639675412\n",
      "0.7150225804633842\n",
      "0.6935894613032915\n",
      "0.6730050165581422\n",
      "0.653235641774138\n",
      "0.6342490631129619\n",
      "0.6160142846641906\n",
      "0.598501537843949\n",
      "0.5816822327971944\n",
      "0.5655289117242942\n",
      "0.5500152040557016\n",
      "0.5351157834015623\n",
      "0.5208063262059467\n",
      "0.5070634720382413\n",
      "0.49386478545684503\n",
      "0.4811887193829377\n",
      "0.46901457992450296\n",
      "0.4573224925932074\n",
      "0.44609336985895537\n",
      "0.43530887998918066\n",
      "0.42495141712197726\n",
      "0.4150040725242377\n",
      "0.40545060698785473\n"
     ]
    }
   ],
   "source": [
    "#Train the model \n",
    "# game plan for each iteration: 1) calculate outputs 2)compare outputs to targets through the loss\n",
    "# 3) print the loss 4) adjust weights and biases\n",
    "# np.dot(A,B) is a method used for multiplying matrics. Alternatively,\n",
    "# we can use the A.dot(B) to perform the same operation.\n",
    "\n",
    "# use L2-norm loss function\n",
    "#np.sum(a) is a method that allows us to sum all the values in the array\n",
    "for i in range(100):\n",
    "    outputs = np.dot(inputs,weights) + biases\n",
    "    deltas = outputs -targets\n",
    "    \n",
    "    loss =np.sum(deltas**2)/2/n \n",
    "    print(loss)\n",
    "    \n",
    "    deltas_scaled =deltas/n\n",
    "    weights = weights - learning_rate*np.dot(inputs.T,deltas_scaled)\n",
    "    biases = biases - learning_rate*np.sum(deltas_scaled)\n",
    "\n",
    "# if loss is decreasing, it is a good model "
   ]
  },
  {
   "cell_type": "code",
   "execution_count": 14,
   "metadata": {},
   "outputs": [
    {
     "name": "stdout",
     "output_type": "stream",
     "text": [
      "[[ 1.99856159]\n",
      " [-3.00675609]] [4.31997578]\n"
     ]
    }
   ],
   "source": [
    "print(weights,biases)"
   ]
  },
  {
   "cell_type": "code",
   "execution_count": 16,
   "metadata": {},
   "outputs": [
    {
     "data": {
      "image/png": "[encoded data removed]",
      "text/plain": [
       "<Figure size 432x288 with 1 Axes>"
      ]
     },
     "metadata": {
      "needs_background": "light"
     },
     "output_type": "display_data"
    }
   ],
   "source": [
    "plt.plot(outputs,targets)\n",
    "plt.xlabel('outputs')\n",
    "plt.ylabel('targets')\n",
    "plt.show()"
   ]
  }
 ],
 "metadata": {
  "kernelspec": {
   "display_name": "Python 3",
   "language": "python",
   "name": "python3"
  },
  "language_info": {
   "codemirror_mode": {
    "name": "ipython",
    "version": 3
   },
   "file_extension": ".py",
   "mimetype": "text/x-python",
   "name": "python",
   "nbconvert_exporter": "python",
   "pygments_lexer": "ipython3",
   "version": "3.7.3"
  }
 },
 "nbformat": 4,
 "nbformat_minor": 2
}
