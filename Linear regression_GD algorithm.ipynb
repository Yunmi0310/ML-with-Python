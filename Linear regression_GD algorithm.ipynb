{
 "cells": [
  {
   "cell_type": "markdown",
   "metadata": {},
   "source": [
    "# Practice Notebook 1\n",
    "\n",
    "The goal is to perform a <strong>linear regression</strong> model on some toy dataset, take look at the data and understand notions of <strong> features</strong>, <strong> target variable</strong>, <strong> cross-validation </strong>,<strong> overfitting </strong>, <strong> metric </strong>, <strong>loss/cost function</strong>, <strong> gradient descent algorithm </strong>.\n",
    "\n",
    "Table of contents:\n",
    "1. Plot x -> x^2\n",
    "2. GD algorithm\n",
    "3. explore datas\n",
    "4. training a linear regression model"
   ]
  },
  {
   "cell_type": "markdown",
   "metadata": {},
   "source": [
    "### Q1. Plot x -> x^2\n",
    "\n",
    "First let's work on x squared function. \n",
    "\n",
    "Plotting a function is a common task, also we ll see that this function is important in machine learning.   "
   ]
  },
  {
   "cell_type": "code",
   "execution_count": 1,
   "metadata": {},
   "outputs": [],
   "source": [
    "import numpy as np\n",
    "import matplotlib.pyplot as plt"
   ]
  },
  {
   "cell_type": "code",
   "execution_count": 3,
   "metadata": {},
   "outputs": [
    {
     "data": {
      "text/plain": [
       "[<matplotlib.lines.Line2D at 0x11bbb7e4f28>]"
      ]
     },
     "execution_count": 3,
     "metadata": {},
     "output_type": "execute_result"
    },
    {
     "data": {
      "image/png": "[encoded data removed]",
      "text/plain": [
       "<Figure size 432x288 with 1 Axes>"
      ]
     },
     "metadata": {
      "needs_background": "light"
     },
     "output_type": "display_data"
    }
   ],
   "source": [
    "# plot x squared function using 100 points between -100 and 100. Make use of the power of lists, plt.xlabel(), \n",
    "# plt.ylabel(), plt.title(), and experiment following options plt.plot(x,y,'r-') replacing 'r-' by 'b-' or 'g-' \n",
    "# or 'r--' or 'r:' or 'c*'\n",
    "\n",
    "# *** your code here ***\n",
    "x = np.linspace(-100,100,25)\n",
    "y = x**2\n",
    "plt.xlabel('x')\n",
    "plt.ylabel('x^2')\n",
    "plt.title('plot of x sqaured function')\n",
    "plt.plot(x, y, 'bo', c='red')"
   ]
  },
  {
   "cell_type": "markdown",
   "metadata": {},
   "source": [
    "### Q2. GD algorithm"
   ]
  },
  {
   "cell_type": "markdown",
   "metadata": {},
   "source": [
    "Now you ll apply GD algorithm to x->x^2 function\n",
    "\n",
    "Let's recall that the gradient descent algorithm is the following:\n",
    "- alpha = 0.1\n",
    "- x <- initial random point between -100 and 100 ( using rand_between(a,b) = a + rand_between(0,1) * (b-a) )\n",
    "- k = 0\n",
    "- while ||gradient_f(x)||>1e-2\n",
    "    - update x: x <- x - alpha * gradient_f(x)\n",
    "    - update k: k <- k+1\n",
    "    - print k, x and f(x)\n",
    "\n",
    "Define 2 functions returning value of f(x)=x^2 and value of gradient (derivative) grad_f(x)=2*x using \n",
    "lambda functions as in this example: https://python.developpez.com/cours/DiveIntoPython/php/frdiveintopython/power_of_introspection/lambda_functions.php\n",
    "\n",
    "Make use of the following: np.random.rand(), np.linalg.norm()\n",
    "\n",
    "Change alpha from to 0.1 to 0.2 then to 0.3. Observe that algorithm should converge faster.\n",
    "Alpha is called <strong>learning rate</strong>. If increased it makes convergence in GD faster therefore it makes machine learning models learning faster."
   ]
  },
  {
   "cell_type": "code",
   "execution_count": 4,
   "metadata": {},
   "outputs": [
    {
     "name": "stdout",
     "output_type": "stream",
     "text": [
      "iter =  1 x = 61.992804937443 f(x)=  3843.1078640118567\n",
      "iter =  2 x = 49.5942439499544 f(x)=  2459.589032967588\n",
      "iter =  3 x = 39.675395159963514 f(x)=  1574.1369810992562\n",
      "iter =  4 x = 31.74031612797081 f(x)=  1007.447667903524\n",
      "iter =  5 x = 25.392252902376647 f(x)=  644.7665074582553\n",
      "iter =  6 x = 20.313802321901317 f(x)=  412.65056477328335\n",
      "iter =  7 x = 16.251041857521052 f(x)=  264.0963614549013\n",
      "iter =  8 x = 13.000833486016841 f(x)=  169.02167133113682\n",
      "iter =  9 x = 10.400666788813473 f(x)=  108.17386965192755\n",
      "iter =  10 x = 8.320533431050778 f(x)=  69.23127657723364\n",
      "iter =  11 x = 6.656426744840623 f(x)=  44.30801700942953\n",
      "iter =  12 x = 5.325141395872498 f(x)=  28.357130886034895\n",
      "iter =  13 x = 4.260113116697998 f(x)=  18.148563767062335\n",
      "iter =  14 x = 3.4080904933583986 f(x)=  11.615080810919894\n",
      "iter =  15 x = 2.726472394686719 f(x)=  7.433651718988733\n",
      "iter =  16 x = 2.1811779157493754 f(x)=  4.757537100152789\n",
      "iter =  17 x = 1.7449423325995004 f(x)=  3.0448237440977852\n",
      "iter =  18 x = 1.3959538660796003 f(x)=  1.9486871962225825\n",
      "iter =  19 x = 1.1167630928636803 f(x)=  1.2471598055824529\n",
      "iter =  20 x = 0.8934104742909442 f(x)=  0.7981822755727699\n",
      "iter =  21 x = 0.7147283794327554 f(x)=  0.5108366563665727\n",
      "iter =  22 x = 0.5717827035462043 f(x)=  0.32693546007460655\n",
      "iter =  23 x = 0.45742616283696347 f(x)=  0.20923869444774823\n",
      "iter =  24 x = 0.36594093026957075 f(x)=  0.13391276444655884\n",
      "iter =  25 x = 0.2927527442156566 f(x)=  0.08570416924579767\n",
      "iter =  26 x = 0.2342021953725253 f(x)=  0.05485066831731051\n",
      "iter =  27 x = 0.18736175629802024 f(x)=  0.03510442772307873\n",
      "iter =  28 x = 0.1498894050384162 f(x)=  0.022466833742770385\n",
      "iter =  29 x = 0.11991152403073295 f(x)=  0.014378773595373045\n",
      "iter =  30 x = 0.09592921922458636 f(x)=  0.009202415101038749\n",
      "iter =  31 x = 0.07674337537966909 f(x)=  0.0058895456646648\n",
      "iter =  32 x = 0.06139470030373527 f(x)=  0.0037693092253854718\n",
      "iter =  33 x = 0.049115760242988214 f(x)=  0.0024123579042467018\n",
      "iter =  34 x = 0.03929260819439057 f(x)=  0.0015439090587178893\n",
      "iter =  35 x = 0.031434086555512455 f(x)=  0.000988101797579449\n",
      "iter =  36 x = 0.025147269244409964 f(x)=  0.0006323851504508473\n",
      "iter =  37 x = 0.020117815395527972 f(x)=  0.0004047264962885423\n",
      "iter =  38 x = 0.016094252316422378 f(x)=  0.00025902495762466707\n",
      "iter =  39 x = 0.012875401853137902 f(x)=  0.00016577597287978694\n",
      "iter =  40 x = 0.010300321482510321 f(x)=  0.00010609662264306362\n",
      "iter =  41 x = 0.008240257186008257 f(x)=  6.790183849156072e-05\n",
      "iter =  42 x = 0.0065922057488066056 f(x)=  4.345717663459886e-05\n",
      "iter =  43 x = 0.005273764599045284 f(x)=  2.7812593046143264e-05\n",
      "iter =  44 x = 0.004219011679236227 f(x)=  1.780005954953169e-05\n"
     ]
    }
   ],
   "source": [
    "alpha = 0.1\n",
    "x = -100+np.random.rand()*200\n",
    "k = 0\n",
    "gradient = lambda x: 2*x\n",
    "f_x = lambda x:x**2\n",
    "while np.linalg.norm(gradient(x))>0.01:\n",
    "    x = x-alpha*gradient(x)\n",
    "    k += 1 \n",
    "    print ('iter = ', k, 'x =', x, 'f(x)= ', f_x(x))\n",
    "       "
   ]
  },
  {
   "cell_type": "markdown",
   "metadata": {},
   "source": [
    "In order to see what you ve achieved you will do the following in the next cell:\n",
    "- copy the code to plot x squared function but remove the plt.show ()\n",
    "- Then copy the code of your GD algorithm \n",
    "- then after initialization of x and after update of x put the following: plt.plot(x,0,'rx')\n",
    "- At the end of your code add plt.show()\n",
    "\n",
    "You should now see a red cross indicating each position of x \n",
    "\n",
    "Observe that for alpha 0.1, 0.2 or 0.3 x stays of the same sign, on plot we see red crosses on the same side.\n",
    "But now if we change alpha to 0.9 we see x changing of sign, on plot we see red crosses from both sides. We oscillate, we goes from side to the other, the convergence will be slow as you can see from the number of iterations.\n",
    "\n",
    "<strong>Conclusion</strong>: increasing learning rate usually makes convergence faster but if too high it may cause convergence issues."
   ]
  },
  {
   "cell_type": "code",
   "execution_count": 7,
   "metadata": {},
   "outputs": [
    {
     "name": "stdout",
     "output_type": "stream",
     "text": [
      "initial point:  87.72264987124694\n",
      "iter =  1 x = 70.17811989699756 f(x)=  4924.968512277364\n",
      "iter =  2 x = 56.14249591759805 f(x)=  3151.9798478575135\n",
      "iter =  3 x = 44.91399673407844 f(x)=  2017.2671026288085\n",
      "iter =  4 x = 35.93119738726275 f(x)=  1291.0509456824375\n",
      "iter =  5 x = 28.7449579098102 f(x)=  826.27260523676\n",
      "iter =  6 x = 22.99596632784816 f(x)=  528.8144673515263\n",
      "iter =  7 x = 18.396773062278527 f(x)=  338.44125910497684\n",
      "iter =  8 x = 14.717418449822821 f(x)=  216.60240582718518\n",
      "iter =  9 x = 11.773934759858257 f(x)=  138.6255397293985\n",
      "iter =  10 x = 9.419147807886606 f(x)=  88.72034542681506\n",
      "iter =  11 x = 7.535318246309285 f(x)=  56.78102107316164\n",
      "iter =  12 x = 6.028254597047428 f(x)=  36.33985348682345\n",
      "iter =  13 x = 4.822603677637942 f(x)=  23.257506231567003\n",
      "iter =  14 x = 3.8580829421103537 f(x)=  14.884803988202883\n",
      "iter =  15 x = 3.086466353688283 f(x)=  9.526274552449845\n",
      "iter =  16 x = 2.4691730829506264 f(x)=  6.096815713567901\n",
      "iter =  17 x = 1.9753384663605011 f(x)=  3.9019620566834567\n",
      "iter =  18 x = 1.580270773088401 f(x)=  2.4972557162774125\n",
      "iter =  19 x = 1.2642166184707206 f(x)=  1.5982436584175437\n",
      "iter =  20 x = 1.0113732947765766 f(x)=  1.022875941387228\n",
      "iter =  21 x = 0.8090986358212613 f(x)=  0.654640602487826\n",
      "iter =  22 x = 0.647278908657009 f(x)=  0.4189699855922086\n",
      "iter =  23 x = 0.5178231269256072 f(x)=  0.2681407907790135\n",
      "iter =  24 x = 0.4142585015404857 f(x)=  0.1716101060985686\n",
      "iter =  25 x = 0.3314068012323886 f(x)=  0.10983046790308391\n",
      "iter =  26 x = 0.26512544098591084 f(x)=  0.0702914994579737\n",
      "iter =  27 x = 0.21210035278872869 f(x)=  0.04498655965310317\n",
      "iter =  28 x = 0.16968028223098294 f(x)=  0.028791398177986025\n",
      "iter =  29 x = 0.13574422578478634 f(x)=  0.018426494833911053\n",
      "iter =  30 x = 0.10859538062782907 f(x)=  0.011792956693703074\n",
      "iter =  31 x = 0.08687630450226326 f(x)=  0.007547492283969968\n",
      "iter =  32 x = 0.06950104360181061 f(x)=  0.00483039506174078\n",
      "iter =  33 x = 0.05560083488144849 f(x)=  0.0030914528395140995\n",
      "iter =  34 x = 0.0444806679051588 f(x)=  0.001978529817289024\n",
      "iter =  35 x = 0.03558453432412704 f(x)=  0.0012662590830649753\n",
      "iter =  36 x = 0.02846762745930163 f(x)=  0.0008104058131615842\n",
      "iter =  37 x = 0.022774101967441306 f(x)=  0.0005186597204234139\n",
      "iter =  38 x = 0.018219281573953045 f(x)=  0.000331942221070985\n",
      "iter =  39 x = 0.014575425259162436 f(x)=  0.00021244302148543036\n",
      "iter =  40 x = 0.011660340207329948 f(x)=  0.00013596353375067542\n",
      "iter =  41 x = 0.009328272165863958 f(x)=  8.701666160043226e-05\n",
      "iter =  42 x = 0.007462617732691167 f(x)=  5.569066342427665e-05\n",
      "iter =  43 x = 0.005970094186152934 f(x)=  3.564202459153706e-05\n",
      "iter =  44 x = 0.004776075348922347 f(x)=  2.281089573858372e-05\n"
     ]
    },
    {
     "data": {
      "image/png": "[encoded data removed]",
      "text/plain": [
       "<Figure size 432x288 with 1 Axes>"
      ]
     },
     "metadata": {
      "needs_background": "light"
     },
     "output_type": "display_data"
    }
   ],
   "source": [
    "x = np.linspace(-100,100,25)\n",
    "y = x**2\n",
    "plt.xlabel('x')\n",
    "plt.ylabel('x^2')\n",
    "plt.title('plot of x sqaured function')\n",
    "plt.plot(x, y, 'b-')\n",
    "\n",
    "alpha = 0.1\n",
    "x = -100+np.random.rand()*200\n",
    "plt.plot(x,0,'rx')\n",
    "print('initial point: ',x)\n",
    "k = 0\n",
    "gradient = lambda x: 2*x\n",
    "f_x = lambda x:x**2\n",
    "while np.linalg.norm(gradient(x))>0.01:\n",
    "    x = x-alpha*gradient(x)\n",
    "    plt.plot(x,0,'rx')\n",
    "    k += 1 \n",
    "    print ('iter = ', k, 'x =', x, 'f(x)= ', f_x(x))\n",
    "    \n",
    "plt.show()"
   ]
  },
  {
   "cell_type": "code",
   "execution_count": 180,
   "metadata": {},
   "outputs": [
    {
     "name": "stdout",
     "output_type": "stream",
     "text": [
      "initial point:  56.320867203578246\n",
      "iter =  1 x = -45.056693762862594 f(x)=  2030.105652840381\n",
      "iter =  2 x = 36.04535501029008 f(x)=  1299.2676178178442\n",
      "iter =  3 x = -28.83628400823207 f(x)=  831.5312754034206\n",
      "iter =  4 x = 23.06902720658566 f(x)=  532.1800162581893\n",
      "iter =  5 x = -18.455221765268526 f(x)=  340.5952104052411\n",
      "iter =  6 x = 14.76417741221482 f(x)=  217.98093465935432\n",
      "iter =  7 x = -11.811341929771856 f(x)=  139.50779818198677\n",
      "iter =  8 x = 9.449073543817487 f(x)=  89.28499083647156\n",
      "iter =  9 x = -7.559258835053992 f(x)=  57.14239413534184\n",
      "iter =  10 x = 6.047407068043194 f(x)=  36.57113224661878\n",
      "iter =  11 x = -4.837925654434555 f(x)=  23.405524637836017\n",
      "iter =  12 x = 3.870340523547645 f(x)=  14.979535768215058\n",
      "iter =  13 x = -3.096272418838116 f(x)=  9.586902891657639\n",
      "iter =  14 x = 2.477017935070493 f(x)=  6.135617850660889\n",
      "iter =  15 x = -1.9816143480563948 f(x)=  3.926795424422971\n",
      "iter =  16 x = 1.5852914784451158 f(x)=  2.513149071630701\n",
      "iter =  17 x = -1.2682331827560929 f(x)=  1.6084154058436493\n",
      "iter =  18 x = 1.0145865462048742 f(x)=  1.0293858597399352\n",
      "iter =  19 x = -0.8116692369638994 f(x)=  0.6588069502335586\n",
      "iter =  20 x = 0.6493353895711196 f(x)=  0.42163644814947765\n",
      "iter =  21 x = -0.5194683116568957 f(x)=  0.2698473268156657\n",
      "iter =  22 x = 0.4155746493255166 f(x)=  0.17270228916202607\n",
      "iter =  23 x = -0.3324597194604133 f(x)=  0.11052946506369672\n",
      "iter =  24 x = 0.2659677755683306 f(x)=  0.07073885764076589\n",
      "iter =  25 x = -0.2127742204546645 f(x)=  0.04527286889009016\n",
      "iter =  26 x = 0.17021937636373158 f(x)=  0.0289746360896577\n",
      "iter =  27 x = -0.13617550109098525 f(x)=  0.018543767097380925\n",
      "iter =  28 x = 0.1089404008727882 f(x)=  0.01186801094232379\n",
      "iter =  29 x = -0.08715232069823056 f(x)=  0.007595527003087227\n",
      "iter =  30 x = 0.06972185655858446 f(x)=  0.004861137281975826\n",
      "iter =  31 x = -0.05577748524686757 f(x)=  0.0031111278604645295\n",
      "iter =  32 x = 0.044621988197494064 f(x)=  0.0019911218306972994\n",
      "iter =  33 x = -0.03569759055799525 f(x)=  0.0012743179716462715\n",
      "iter =  34 x = 0.0285580724463962 f(x)=  0.000815563501853614\n",
      "iter =  35 x = -0.022846457957116963 f(x)=  0.0005219606411863129\n",
      "iter =  36 x = 0.01827716636569357 f(x)=  0.0003340548103592403\n",
      "iter =  37 x = -0.014621733092554857 f(x)=  0.00021379507862991383\n",
      "iter =  38 x = 0.011697386474043888 f(x)=  0.0001368288503231449\n",
      "iter =  39 x = -0.00935790917923511 f(x)=  8.757046420681274e-05\n",
      "iter =  40 x = 0.00748632734338809 f(x)=  5.6045097092360176e-05\n",
      "iter =  41 x = -0.005989061874710473 f(x)=  3.5868862139110526e-05\n",
      "iter =  42 x = 0.004791249499768379 f(x)=  2.295607176903074e-05\n"
     ]
    },
    {
     "data": {
      "image/png": "[encoded data removed]",
      "text/plain": [
       "<Figure size 432x288 with 1 Axes>"
      ]
     },
     "metadata": {
      "needs_background": "light"
     },
     "output_type": "display_data"
    }
   ],
   "source": [
    "x = np.linspace(-100,100,25)\n",
    "y = x**2\n",
    "plt.xlabel('x')\n",
    "plt.ylabel('x^2')\n",
    "plt.title('plot of x sqaured function')\n",
    "plt.plot(x, y, 'b-')\n",
    "\n",
    "# when learning rate is too big, it could osciliate and might not able to converge easily\n",
    "alpha = 0.9\n",
    "x = -100+np.random.rand()*200\n",
    "plt.plot(x,0,'rx')\n",
    "print('initial point: ',x)\n",
    "k = 0\n",
    "gradient = lambda x: 2*x\n",
    "f_x = lambda x:x**2\n",
    "while np.linalg.norm(gradient(x))>0.01:\n",
    "    x = x-alpha*gradient(x)\n",
    "    plt.plot(x,0,'rx')\n",
    "    k += 1 \n",
    "    print ('iter = ', k, 'x =', x, 'f(x)= ', f_x(x))\n",
    "    \n",
    "plt.show()"
   ]
  },
  {
   "cell_type": "markdown",
   "metadata": {},
   "source": [
    "### Q3. Explore datas\n",
    "\n",
    "Now we want to create a model predicting the age of someone knowing only its year salary.\n",
    "age will be called <strong>target variable</strong> while year salary will be called <strong>feature</strong>.\n",
    "Here we have only feature, therefore our data is of dimension 1. It will allow us to do some plotting of our data which can be more difficult if our data is of dimension 100. "
   ]
  },
  {
   "cell_type": "code",
   "execution_count": 8,
   "metadata": {},
   "outputs": [],
   "source": [
    "data = {\"age\": [None, 44,41,49,41,46,43,45,None, 45,50,40,40,43,42,40,41,39,39,44,45,41,44,49,44,38,44,42,37,48,37,47,43,38,41,44,46,42,39,41,38,36,43,42,40,39,43,43,44,41,45,34,49,41,41,40,39,42,40,44,49,39,42,34,39,44,43,40,35,47,43,49,40,48,42,37,42,46,46,40,40,43,46,47,45,45,44,46,37,42,42,43,44,45,43,48,40,46,35,42,40,35,41,49,43,44,44,37,48,49,42,44,43,38,37,44,40,43,38,39,50,42,43,40,35,40,37,37,38,39,49,33,43,45,44,40,45,47,42,42,49,47,35,45,44,36,43,38,40,49,40,37,46,41,45,46,36,35,41,40,38,44,48,40,45,42,40,39,40,44,40,41,41,39,42,46,38,45,44,41,46,42,50,46,43,45,34,45,47,38,44,51,41,42,41,41,41,40,37,42,44,31,44,41,39,38,42,43,43,49,47,36,35,45,45,36,46,39,38,48,40,46,41,37,42,37,36,40,41,49,48,45,46,45,44,44,39,44,41,42,48,38,40,45,37,48,44,51,48,43,50,51,42,43,40,42,49,46,41,39,48,46,39,33,39,35,47,46,46,45,41,44,40,39,43,39,46,45,38,39,39,40,36,43,36,41,46,46,46,34,40,42,42,38,45,43,49,44,39,44,45,30,49,44,35,39,45,40,37,42,43,45,47,44,47,42,44,39,43,50,40,46,41,43,44,48,39,55,39,40,41,46,42,42,40,46,46,42,37,38,47,47,40,40,46,42,37,42,43,42,44,41,43,51,46,39,42,44,38,38,48,47,49,42,46,36,37,47,48,49,43,42,44,45,44,48,40,40,43,37,43,42,35,34,41,46,45,42,37,41,39,43,41,40,43,41,36,40,49,40,43,36,45,43,42,40,40,42,44,45,44,47,37,49,38,51,37,45,42,41,45,41,48,39,38,40,46,40,41,43,48,43,34,41,46,37,46,40,36,44,33,39,45,45,43,47,45,42,41,38,44,36,39,50,36,42,46,45,44,40,41,47,39,45,42,44,53,45,46,39,51,42,44,46,41,36,47,42,45,43,40,41,41,44,39,43,44,40,42,40,39,48,39,43,43,42,40,40,46,37,40,47,46,41,39,44,43,44,44,39,43,48,44,45,45,45,39,46,45,40,37,35,34,42,48,41,40,35,40,38,42,51,42,50,45,38,39,44,42,52,49,45,44,45,39,43,45,44,45,44,43,49,46,42,42,44,40,42,41,42,38,52,41,45,38,46,36,39,46,48,49,45,41,48,41,42,35,44,45,44,44,48,43,36,46,42,41,44,46,45,44,50,49,42,40,36,43,42,46,45,42,39,44,42,40,38,41,37,40,47,41,44,45,40,39,45,46,44,45,45,45,40,43,40,38,39,47,40,42,47,35,38,40,46,40,47,44,49,36,43,42,51,43,37,39,36,37,47,42,43,39,38,49,48,47,39,39,43,43,44,51,40,41,47,43,38,44,42,46,45,43,45,44,48,37,42,43,40,36,43,41,49,47,48,45,43,43,40,44,42,39,44,43,50,46,38,45,39,41,36,46,45,45,43,42,48,41,43,46,36,45,39,45,41,41,45,43,42,41,39,35,43,42,43,41,41,39,39,45,41,51,35,47,47,39,36,52,45,45,47,44,42,46,43,42,42,43,42,40,41,40,46,38,43,40,40,36,39,36,49,46,48,42,44,49,42,45,41,48,45,37,48,38,40,43,35,39,37,45,44,44,34,47,41,47,42,41,44,43,40,45,43,45,42,40,43,48,45,33,41,47,44,49,45,46,46,34,45,35,40,38,35,37,40,40,48,42,43,42,38,40,45,39,45,40,40,48,39,42,47,43,44,37,43,46,46,46,37,45,46,51,38,40,35,40,45,45,47,45,45,41,43,46,34,49,43,44,40,48,46,40,46,45,34,45,41,43,41,43,44,43,47,43,46,42,45,45,47,42,42,42,45,41,48,44,44,36,37,46,45,43,39,45,38,41,42,43,42,49,40,44,45,39,46,36,40,42,48,43,45,44,44,43,42,41,42,41,42,45,46,45,45,49,38,47,42,44,48,43,45,51,41,45,41,43,39,42,42,49,44,47,45,40,44,41,48,41,35,45,47,40,33,44,38,42,43,45,39,45,47,46,37,45,39,40,44,44,52,45,42,42,48,42,36,46,43,40,42,41,40,41,48,35,44,41,44,37,46,38,40,45,39,45,48,42,46,43,None, 37,43,41, 34,42],\n",
    "       \"year_salary\": [ None, 48984.30352534,  44170.93676582,  56378.75195956,  45235.86050582,\n",
    "        47548.75862066,  47421.52070722,  46499.76790003,  49056.41977418,\n",
    "        50957.69246907,  None, 43123.99816193,  44406.10326035,  42379.18416064,\n",
    "        43034.93841871,  44527.55039755,  43013.05479716,  40801.23699842,\n",
    "        41283.73636579,  43894.64994325,  53620.67023011,  45308.45695845,\n",
    "        49974.92413727,  56030.44977921,  48805.09268866,  41641.54067985,\n",
    "        49494.06436765,  46392.30320516,  40067.44034186,  50440.72022978,\n",
    "        41422.60162426,  47766.61657679,  44949.92853726,  44244.96506606,\n",
    "        42689.00765003,  45651.0957452 ,  47528.15183966,  48184.37353404,\n",
    "        41806.2340032 ,  44884.3703715 ,  41705.38567248,  40334.75174807,\n",
    "        45738.64217292,  46091.28031225,  42471.33255297,  41554.88473603,\n",
    "        46587.43312104,  46172.66470713,  45910.56854319,  46219.18965155,\n",
    "        47122.31450042,  35454.15446324,  56887.19023467,  42190.51115751,\n",
    "        46211.19066157,  43942.41215174,  46280.62888548,  43909.96531228,\n",
    "        41064.02603731,  47881.78007497,  50688.6532167 ,  44220.61088139,\n",
    "        47488.49498365,  34799.64207923,  44634.73290468,  51375.64746955,\n",
    "        44755.03474055,  41515.51434158,  38145.75894787,  50734.77624133,\n",
    "        44824.83582607,  49602.98053331,  43809.36549971,  50511.24468202,\n",
    "        46962.79425016,  39809.80058398,  47577.1160121 ,  51718.05798088,\n",
    "        52455.94859005,  45686.38151682,  44255.11393173,  46820.78238606,\n",
    "        51793.368507  ,  52085.89415738,  47732.61511384,  50071.15671501,\n",
    "        49720.86630153,  50507.36996782,  39367.01011304,  46516.57445497,\n",
    "        44687.92632004,  48532.57623915,  44873.43076903,  45116.78785836,\n",
    "        47571.88109795,  54688.85297124,  44617.88533416,  46757.38010923,\n",
    "        38189.6380196 ,  47389.66719546,  45292.33837958,  37117.07061878,\n",
    "        46321.84748437,  52288.39955941,  45733.35187904,  46398.30353591,\n",
    "        47173.28592724,  41787.8458989 ,  55404.45776938,  51517.40838029,\n",
    "        47041.46555352,  47585.24364274,  44570.10751023,  43866.42768101,\n",
    "        39556.55747421,  49950.69478617,  45099.73966415,  45069.87521305,\n",
    "        40388.68241133,  42163.68508979,  49888.69461153,  44486.14714289,\n",
    "        48637.14447331,  41507.52899451,  38359.46039462,  42004.30266314,\n",
    "        40502.49557609,  38343.09572283,  44033.73274507,  44271.01659386,\n",
    "        53370.23355433,  37782.56331871,  48074.43578962,  49696.08186758,\n",
    "        46179.8517244 ,  40403.48685353,  49776.79357535,  49653.6468865 ,\n",
    "        43936.17334143,  46680.10377317,  55938.82812842,  53698.71759299,\n",
    "        32365.07490168,  51519.30508541,  46111.46944081,  40283.97924443,\n",
    "        44858.79126138,  39842.14933781,  44977.09535904,  53911.63591109,\n",
    "        43538.41991814,  38628.60937391,  51668.51095689,  42076.33871658,\n",
    "        51375.10777478,  49141.80677193,  37832.86331864,  40105.2707349 ,\n",
    "        46749.02907076,  44000.42150212,  39989.93901467,  48334.04261975,\n",
    "        50693.2052066 ,  46203.17525127,  48093.8927051 ,  49810.03226983,\n",
    "        44582.73705864,  43013.26419144,  39762.61892178,  46432.70455951,\n",
    "        44347.37120751,  44246.21406027,  43349.09881045,  39538.3739286 ,\n",
    "        46871.49130403,  51330.54725509,  42529.70370348,  49454.77221064,\n",
    "        50205.12373998,  41010.28875702,  49657.27159925,  47229.11839041,\n",
    "        51893.55464237,  52005.12320276,  50476.64703186,  48815.2739749 ,\n",
    "        34845.23610552,  53219.84101948,  48668.55600665,  42554.63021592,\n",
    "        44394.85105461,  56519.87601033,  44815.14930758,  45826.93920182,\n",
    "        41460.08074609,  42373.20204125,  45734.81473809,  39146.55188032,\n",
    "        40455.85381329,  50943.93350606,  47894.55282297,  35476.5646989 ,\n",
    "        45960.26488494,  44017.74704293,  39770.71080579,  42156.99232023,\n",
    "        49624.30853333,  47085.55222009,  45479.28797244,  50239.62652074,\n",
    "        47176.20789321,  41796.03240028,  37218.19550849,  50169.41122218,\n",
    "        48694.62365275,  41204.98615365,  46748.71531412,  43081.7213025 ,\n",
    "        43263.9399923 ,  53573.33559339,  45327.14377999,  48739.64957271,\n",
    "        46158.29443854,  41541.7536563 ,  50764.32506627,  40861.8990263 ,\n",
    "        37490.94366909,  42865.45757047,  42304.608361  ,  49916.75958239,\n",
    "        50787.02691248,  50928.50965239,  50407.15683773,  45590.74304942,\n",
    "        48249.40203467,  49421.72687958,  44971.30741092,  46863.87701148,\n",
    "        46556.90113202,  47527.61724038,  53350.27364981,  40376.75061372,\n",
    "        43848.02585667,  51954.54803762,  38525.53163408,  51992.21497326,\n",
    "        46560.96226353,  56814.8301104 ,  48119.02551035,  43724.25938804,\n",
    "        55328.51316438,  54893.04634783,  44627.45244309,  45687.19656443,\n",
    "        41827.63222894,  42370.64387244,  54351.83325985,  52013.00554577,\n",
    "        43707.37872281,  46821.79082784,  53153.99525233,  55104.18192771,\n",
    "        37225.68402413,  36482.88386862,  45418.0245604 ,  35853.18624728,\n",
    "        50062.32763571,  48046.29800245,  46951.91527284,  46610.07307883,\n",
    "        42102.34538188,  48627.4118784 ,  45818.45500054,  43658.40946619,\n",
    "        48911.38839489,  39575.01987274,  48992.85638648,  49252.32005745,\n",
    "        42333.9693225 ,  43087.51100827,  41103.17810951,  41039.7046185 ,\n",
    "        39523.18167878,  48068.67156891,  37761.50207181,  46756.36509539,\n",
    "        46338.77856952,  48364.08454347,  50213.11641293,  37544.19721806,\n",
    "        44749.49938128,  46601.6858624 ,  42443.10067902,  43536.38256674,\n",
    "        43897.02150647,  44062.03241832,  53571.61416316,  49477.19515254,\n",
    "        41528.78731294,  46659.26442512,  48202.67026682,  34891.82813484,\n",
    "        49102.12659258,  50330.77687083,  40287.10563738,  36565.35021069,\n",
    "        48858.16489607,  43458.67923119,  39818.81684691,  41901.58581577,\n",
    "        48956.33537647,  48312.71902648,  52664.29502831,  48479.23438329,\n",
    "        53041.65532267,  43695.95648665,  48421.8946899 ,  43563.13484882,\n",
    "        47160.13021763,  52882.01500122,  46152.99615088,  50808.8989682 ,\n",
    "        42741.44851571,  45149.09753649,  45997.71576531,  50332.67297352,\n",
    "        42386.5573354 ,  57711.16059514,  43130.97989841,  44597.48311971,\n",
    "        42015.33496928,  50444.74512275,  49854.67563951,  43404.51396138,\n",
    "        45817.17485084,  47758.7803659 ,  51526.33774581,  44692.43346308,\n",
    "        39640.1415458 ,  36948.66762244,  48056.39323997,  51166.89967234,\n",
    "        43488.36122196,  45121.90234656,  52997.03195959,  42849.94563257,\n",
    "        38791.37896192,  42121.14796925,  49760.19183311,  44039.98479763,\n",
    "        47938.17414947,  47600.89856687,  47034.8587785 ,  54680.7980585 ,\n",
    "        50494.81691267,  39855.86631588,  45905.41081609,  43972.05340938,\n",
    "        45468.96917825,  40476.40687458,  53608.19984022,  45772.09330368,\n",
    "        51929.28528393,  47427.69095055,  51108.81131685,  39923.00058578,\n",
    "        39498.72252623,  48510.62919661,  51310.67048586,  52815.58643071,\n",
    "        45977.93142162,  45937.39602966,  51441.70607396,  51356.74276347,\n",
    "        44859.70862657,  56221.21470076,  42957.3070086 ,  43368.98895212,\n",
    "        46765.97539153,  40592.4493151 ,  46738.82140819,  46689.47274933,\n",
    "        40456.07086422,  37169.15090697,  44376.65702292,  49539.03875469,\n",
    "        48770.50584951,  45322.52708173,  40313.48898176,  43623.26509798,\n",
    "        44214.38965651,  50260.11463377,  42727.10989816,  43333.63356197,\n",
    "        48952.3744332 ,  44431.66367809,  41736.5123622 ,  43052.43603908,\n",
    "        53616.47762046,  45435.30935385,  46504.09093869,  36279.55075117,\n",
    "        48717.33309532,  47614.51015129,  43822.4429319 ,  42231.9046741 ,\n",
    "        40530.85342937,  44559.32286626,  45928.4573515 ,  47067.63033305,\n",
    "        47253.08559242,  50175.33985233,  43382.64883051,  49931.35802327,\n",
    "        39950.73382556,  54633.43785541,  41426.0752202 ,  48633.97990825,\n",
    "        45190.09830508,  44387.29607021,  45465.36566246,  48267.11264353,\n",
    "        52831.66043723,  43747.8647745 ,  42123.18852628,  40916.38258003,\n",
    "        49590.79192197,  45018.46818376,  49260.7506478 ,  47432.63908855,\n",
    "        52976.62578356,  47169.18437582,  37963.95204163,  47683.5322847 ,\n",
    "        49282.01773777,  41935.60101054,  50487.68723743,  44622.209896  ,\n",
    "        39409.23173697,  42738.50145945,  34042.27988615,  44834.47382885,\n",
    "        43915.57310745,  47528.9986524 ,  48349.571936  ,  47149.53263036,\n",
    "        47766.72321705,  42914.70660844,  44619.85602927,  37824.71584273,\n",
    "        44577.78057384,  35251.72724447,  43486.54700873,  54591.2000138 ,\n",
    "        39180.8486216 ,  45680.83911851,  47216.01216124,  49728.82707969,\n",
    "        49554.61375034,  42001.13784248,  45216.38663013,  53786.92752459,\n",
    "        46843.44898183,  47485.84418144,  46479.52075139,  48282.50479479,\n",
    "        56837.58771196,  49000.67183051,  51208.05079528,  39767.68871763,\n",
    "        56587.46402562,  50962.53865662,  46895.51543417,  50763.25214559,\n",
    "        47023.61345239,  36865.3542214 ,  50902.43661908,  44872.81996692,\n",
    "        48357.29078042,  44364.40930842,  42725.57863707,  41706.95958941,\n",
    "        43711.77902272,  46349.3995482 ,  43371.87466434,  45043.94396071,\n",
    "        49245.88211894,  45437.19002215,  46569.60948017,  40319.60336707,\n",
    "        41519.26818461,  46649.75289248,  41145.51592858,  45922.08278956,\n",
    "        40768.02315939,  46438.47221508,  42842.06769623,  45401.87714835,\n",
    "        45239.39393449,  35757.34730471,  43656.64187296,  50503.67995965,\n",
    "        51459.61618034,  44345.24049259,  42532.53702409,  48712.72586449,\n",
    "        49857.89154052,  47596.83425655,  45133.16141029,  43352.74566854,\n",
    "        48295.25977339,  47386.90077433,  51681.73954317,  49312.52076095,\n",
    "        47523.86880305,  48660.39265765,  44797.26296742,  50038.79018462,\n",
    "        49132.88083176,  43251.62969063,  35054.26272317,  37814.11089824,\n",
    "        37643.36876498,  47755.70700623,  53273.5874794 ,  43002.67465753,\n",
    "        46391.43180689,  42321.26270283,  40672.94764404,  40062.03020456,\n",
    "        49162.14362221,  53825.24800783,  40887.57922409,  52078.18328224,\n",
    "        47069.75822134,  43088.46708947,  42426.94666431,  50446.80855521,\n",
    "        48505.97043836,  57831.02190157,  48657.39905647,  48203.25933623,\n",
    "        47324.08678537,  45869.07928718,  39916.83251994,  45367.82364638,\n",
    "        48969.58088134,  51207.30426389,  50563.30960886,  48186.36070417,\n",
    "        47476.51883187,  56774.2441002 ,  48602.17381239,  51783.5838761 ,\n",
    "        45117.46124129,  47784.15137957,  45689.16070083,  43861.6060847 ,\n",
    "        42513.14495649,  49312.57917718,  43617.28858025,  59460.13760104,\n",
    "        43653.06423376,  46130.13834583,  40083.53795023,  43768.70885315,\n",
    "        41417.44371726,  43194.33662796,  48569.95320067,  55023.43104669,\n",
    "        55442.42940566,  45618.2938151 ,  41313.73843436,  53880.11099885,\n",
    "        44019.33202669,  44252.31847052,  38882.64130392,  46843.65529076,\n",
    "        48958.91441733,  48112.20981027,  49259.28519154,  49925.31313286,\n",
    "        50491.72850372,  38229.09381664,  48075.69873854,  45351.99294608,\n",
    "        44902.02916434,  48054.91272503,  52669.93383862,  48246.85083422,\n",
    "        46816.75558932,  55153.51795418,  52055.10383845,  47024.76333087,\n",
    "        43288.25483509,  39001.53862032,  44750.29075118,  44851.76201326,\n",
    "        49969.54676757,  44524.27837912,  42551.69316758,  43085.79249798,\n",
    "        47520.85483497,  45309.66845745,  42168.21495981,  39124.05642306,\n",
    "        44768.17470217,  39260.88200297,  44300.90523347,  49388.89254488,\n",
    "        44975.05863619,  46765.54647311,  48475.82702549,  42997.05326027,\n",
    "        42545.34440744,  53285.28265642,  49089.26640019,  45027.79211695,\n",
    "        48989.08862542,  48287.64885102,  50368.35718108,  45058.16008294,\n",
    "        49322.66688077,  44240.3234201 ,  37509.10934906,  42539.38649297,\n",
    "        49679.27684802,  42970.33708042,  45955.13684141,  50155.334693  ,\n",
    "        38975.56498103,  40092.58998111,  43449.54495932,  50425.59065799,\n",
    "        37679.45430145,  47047.72516658,  44051.62490415,  52888.51205935,\n",
    "        38025.1980989 ,  43691.23735088,  48705.12634047,  56102.62875866,\n",
    "        42986.33798848,  41395.15231646,  39759.71266967,  39347.64257041,\n",
    "        44375.82863797,  53588.23611088,  47534.85516623,  46190.17461075,\n",
    "        42185.46048346,  40291.69721897,  50349.68275395,  50916.36221261,\n",
    "        54098.28936009,  39703.52198444,  44230.9641254 ,  48700.54624686,\n",
    "        47476.3143913 ,  46783.19398112,  52681.20167657,  45109.14355738,\n",
    "        45809.06835728,  51944.99872876,  47862.71771185,  42407.27439531,\n",
    "        48523.17348219,  44275.85463138,  46874.03579219,  46757.02329733,\n",
    "        50411.60298239,  50368.56472871,  47949.30122952,  53290.73364742,\n",
    "        38743.37600318,  45272.19938989,  43326.88585296,  39374.99789682,\n",
    "        39371.72272127,  47492.49704569,  42947.72441882,  52348.85128348,\n",
    "        51278.69266987,  52724.69914421,  49068.07973305,  45511.77311852,\n",
    "        46370.25906848,  42996.32855566,  49273.62691319,  51998.66749871,\n",
    "        45513.38272867,  50461.36921671,  45702.65715999,  53005.12962103,\n",
    "        51988.39972241,  38944.54612249,  46229.64487838,  44248.38969657,\n",
    "        45930.89340962,  40716.47133524,  45772.83888633,  51525.24013489,\n",
    "        47304.45761993,  45046.99351522,  47248.39004   ,  51017.41783653,\n",
    "        47130.94042461,  47183.56606865,  48061.39669735,  38065.86052575,\n",
    "        45519.41297367,  40778.37016894,  48874.62397091,  47708.18152656,\n",
    "        42171.37393024,  50647.49401789,  45799.47259899,  47460.94764943,\n",
    "        43474.19368203,  42200.37731697,  37576.61499659,  45097.66178882,\n",
    "        43472.05317572,  44862.33823042,  41612.36096505,  43893.96166873,\n",
    "        45595.89049315,  40403.4410788 ,  49049.81882369,  46558.63635917,\n",
    "        53302.54795093,  36970.91754368,  51809.28298868,  48577.66332161,\n",
    "        42885.34289922,  40174.74375531,  51794.37636368,  49362.16158057,\n",
    "        51454.66801811,  48425.00784034,  48140.75146373,  45951.60589509,\n",
    "        50198.43483787,  45319.1842796 ,  44240.48186607,  48319.11849815,\n",
    "        46893.48019623,  45585.8019242 ,  43632.15780354,  48105.80675318,\n",
    "        41830.58817114,  51936.65408254,  38536.2144298 ,  46930.42508077,\n",
    "        41661.27969554,  44200.73705814,  37530.79947246,  42676.42216513,\n",
    "        37600.62694049,  54257.90313464,  48676.65287557,  54138.96623242,\n",
    "        45815.50502546,  46188.49629563,  51926.66394867,  47764.70401398,\n",
    "        48594.62582601,  45232.26755217,  49098.77930376,  49182.43142426,\n",
    "        38833.16887408,  53133.30866585,  40653.04000568,  42195.99418618,\n",
    "        44037.08289912,  40935.85244677,  38181.78970033,  39998.47321557,\n",
    "        50566.83506866,  45584.90247745,  47717.51362593,  35062.05910667,\n",
    "        49107.43132311,  43208.86192813,  49921.03096082,  47176.19094194,\n",
    "        44563.82809783,  45948.59157468,  45113.38376506,  44484.81849554,\n",
    "        48649.88341261,  49602.35064117,  48286.19612355,  43374.43599294,\n",
    "        41190.77810377,  46762.1399506 ,  50155.74220553,  48586.630268  ,\n",
    "        36896.1706323 ,  45419.49858523,  52578.20856965,  44174.53850844,\n",
    "        55679.40681037,  45123.09092455,  50321.38141059,  49107.93173441,\n",
    "        39571.13952037,  47144.27153138,  39712.96400321,  45658.40143318,\n",
    "        41880.07869252,  38720.78339335,  41551.37516698,  43792.4415189 ,\n",
    "        46660.28824695,  46591.33113208,  47483.18466898,  46951.74661417,\n",
    "        40704.17264692,  42836.30414914,  42387.92343429,  47051.30162843,\n",
    "        41050.7879808 ,  49817.95298482,  42718.72988293,  40632.37569271,\n",
    "        51274.06112495,  39527.58984004,  45402.24092937,  51071.96234763,\n",
    "        43500.39022148,  47264.97984679,  38683.84058465,  48858.34732217,\n",
    "        47188.16371722,  52741.71580657,  49368.28494306,  41620.56046564,\n",
    "        45929.67483379,  51282.57240428,  55639.21552543,  40058.20213057,\n",
    "        44885.26391546,  35119.29575238,  42099.94652052,  50088.26678818,\n",
    "        48887.31810439,  52044.98599991,  47033.39888736,  47859.56306681,\n",
    "        44606.19303018,  44543.99397446,  48841.22432329,  37687.56422074,\n",
    "        53889.83191682,  44700.01355812,  48732.99178431,  39070.02871977,\n",
    "        50392.18886378,  49611.64028178,  44801.65337673,  46976.66018795,\n",
    "        48090.06808781,  41460.77554   ,  47297.72171703,  42902.43394436,\n",
    "        43188.38015553,  44386.79428086,  51098.17410463,  47388.3321973 ,\n",
    "        45931.16576036,  49183.03613837,  46236.32641627,  49063.36012175,\n",
    "        44894.94629641,  44278.32698922,  52164.67688197,  52046.2753368 ,\n",
    "        46915.32428506,  46343.33578163,  43159.14500359,  50415.44505827,\n",
    "        43888.73030051,  54590.78479542,  49486.70361687,  48479.35472103,\n",
    "        38103.60720268,  37954.26928609,  48454.36217995,  45520.46847268,\n",
    "        43508.05369871,  40574.74863814,  48931.22107046,  37833.53713652,\n",
    "        48708.33286932,  46165.18259709,  48144.92726679,  42613.46124597,\n",
    "        48582.79394416,  41906.58623202,  45047.68108891,  45103.24774092,\n",
    "        43392.07099225,  48411.35704537,  42072.21376351,  41965.10209672,\n",
    "        46571.95356   ,  52592.04695758,  47568.05703573,  49970.73387786,\n",
    "        45279.75889836,  48505.20290897,  47749.22317002,  44770.87420846,\n",
    "        41787.11005204,  43812.9445803 ,  45022.66974175,  43951.93888854,\n",
    "        45375.19474773,  52247.96436519,  49701.80445928,  47620.03279026,\n",
    "        57476.47783546,  43803.26873761,  51720.27685377,  42314.41758983,\n",
    "        47758.71187244,  47482.42562025,  43793.29139663,  48201.84233802,\n",
    "        52044.37110768,  45130.87448466,  48138.77451402,  44656.80235666,\n",
    "        46867.29841232,  39159.87293335,  42684.96590592,  46056.69458737,\n",
    "        50307.08761661,  47872.34908457,  49464.80505359,  50714.08042893,\n",
    "        47291.12620411,  52851.46930746,  43901.45054012,  50677.71982994,\n",
    "        45255.14167717,  34477.84824504,  47021.70334942,  51930.44952224,\n",
    "        46328.52512015,  35167.21413806,  49351.33906145,  36892.96521386,\n",
    "        47307.95665985,  46806.49360122,  48582.86613734,  44464.80088861,\n",
    "        48684.18402711,  54160.90712662,  50677.32147136,  38594.90992601,\n",
    "        46562.98546411,  44392.11892992,  44255.69889777,  47774.48828526,\n",
    "        45565.46751958,  56171.90898464,  48365.81331009,  48789.20044196,\n",
    "        45867.736666  ,  52866.00900826,  46565.82475294,  39120.73764444,\n",
    "        46660.65874342,  46469.6002513 ,  45285.37899708,  46866.33694338,\n",
    "        44071.37377748,  42414.3440922 ,  46612.49887599,  52798.93531902,\n",
    "        38929.94027406,  47427.70468037,  44606.82042706,  46332.96749498,\n",
    "        41303.51078965,  49384.26727026,  37349.16630528,  43247.23403   ,\n",
    "        50591.89455728,  46334.59600346,  50575.4703225 ,  53218.27143893,\n",
    "        42933.61273851,  49006.85379324,  49465.31216053,  43081.37024769,\n",
    "        48403.42442748,  46994.2831821 ,  None, 36731.30068159,  45826.12637614]}\n"
   ]
  },
  {
   "cell_type": "markdown",
   "metadata": {},
   "source": [
    "Above I created a dictionnary containing 1000 data points.\n",
    "\n",
    "Use this example to see how to extract content of a dictionnary: https://www.w3schools.com/python/python_dictionaries.asp\n",
    "\n",
    "Stock feature values in X and target values in y.\n",
    "\n",
    "Remove None values using the power of list ( [ ... if a is not None] )\n",
    "\n",
    "Make sure X and y are np.array.\n",
    "\n",
    "Then plot your data using plt.scatter(X,y,,marker='o', c='c')"
   ]
  },
  {
   "cell_type": "code",
   "execution_count": 9,
   "metadata": {},
   "outputs": [],
   "source": [
    "X= data['year_salary'] = [X for X in data['year_salary'] if X !=None]"
   ]
  },
  {
   "cell_type": "code",
   "execution_count": 10,
   "metadata": {},
   "outputs": [],
   "source": [
    "y = data['age']= [y for y in data['age'] if y !=None]\n"
   ]
  },
  {
   "cell_type": "code",
   "execution_count": 11,
   "metadata": {},
   "outputs": [],
   "source": [
    "import numpy as np\n",
    "X= np.asarray(X)"
   ]
  },
  {
   "cell_type": "code",
   "execution_count": 12,
   "metadata": {},
   "outputs": [],
   "source": [
    "y= np.asarray(y)"
   ]
  },
  {
   "cell_type": "code",
   "execution_count": 13,
   "metadata": {},
   "outputs": [
    {
     "data": {
      "text/plain": [
       "numpy.ndarray"
      ]
     },
     "execution_count": 13,
     "metadata": {},
     "output_type": "execute_result"
    }
   ],
   "source": [
    "type(X)"
   ]
  },
  {
   "cell_type": "code",
   "execution_count": 263,
   "metadata": {},
   "outputs": [
    {
     "data": {
      "text/plain": [
       "1000"
      ]
     },
     "execution_count": 263,
     "metadata": {},
     "output_type": "execute_result"
    }
   ],
   "source": [
    "len(y)"
   ]
  },
  {
   "cell_type": "code",
   "execution_count": 14,
   "metadata": {},
   "outputs": [
    {
     "data": {
      "text/plain": [
       "1000"
      ]
     },
     "execution_count": 14,
     "metadata": {},
     "output_type": "execute_result"
    }
   ],
   "source": [
    "len(data['year_salary'])"
   ]
  },
  {
   "cell_type": "code",
   "execution_count": 15,
   "metadata": {},
   "outputs": [
    {
     "data": {
      "text/plain": [
       "1000"
      ]
     },
     "execution_count": 15,
     "metadata": {},
     "output_type": "execute_result"
    }
   ],
   "source": [
    "len(data['age'])"
   ]
  },
  {
   "cell_type": "code",
   "execution_count": 16,
   "metadata": {},
   "outputs": [
    {
     "data": {
      "text/plain": [
       "<matplotlib.collections.PathCollection at 0x11bbbb75eb8>"
      ]
     },
     "execution_count": 16,
     "metadata": {},
     "output_type": "execute_result"
    },
    {
     "data": {
      "image/png": "[encoded data removed]",
      "text/plain": [
       "<Figure size 432x288 with 1 Axes>"
      ]
     },
     "metadata": {
      "needs_background": "light"
     },
     "output_type": "display_data"
    }
   ],
   "source": [
    "import matplotlib.pyplot as plt\n",
    "plt.scatter(X,y ,marker='o', c='c')"
   ]
  },
  {
   "cell_type": "markdown",
   "metadata": {},
   "source": [
    "Now we would like to plot histogram of age and salary using plt.hist(). Use 40 bins for salary 20 bins for age. alpha = 0.6 and color = 'orange',  and 'y' for instance. You can put a title for each histogram.\n",
    "\n",
    "Once this is done it would be great to plot them on the same figure using plt.subplot() like in this example: https://matplotlib.org/gallery/subplots_axes_and_figures/multiple_figs_demo.html#sphx-glr-gallery-subplots-axes-and-figures-multiple-figs-demo-py\n",
    "\n",
    "If you had titles you can increase the space between histo adding plt.subplots_adjust(hspace=0.5) before plt.show()"
   ]
  },
  {
   "cell_type": "code",
   "execution_count": 17,
   "metadata": {},
   "outputs": [
    {
     "data": {
      "text/plain": [
       "(array([ 1.,  0.,  1.,  6.,  5.,  3.,  8., 16., 15., 17., 24., 28., 22.,\n",
       "        31., 38., 44., 48., 55., 64., 57., 55., 67., 54., 55., 57., 44.,\n",
       "        41., 28., 29., 17., 22., 13., 10.,  5.,  6.,  6.,  4.,  3.,  0.,\n",
       "         1.]),\n",
       " array([32365.07490168, 33042.45146916, 33719.82803665, 34397.20460413,\n",
       "        35074.58117162, 35751.9577391 , 36429.33430658, 37106.71087407,\n",
       "        37784.08744155, 38461.46400904, 39138.84057652, 39816.217144  ,\n",
       "        40493.59371149, 41170.97027897, 41848.34684646, 42525.72341394,\n",
       "        43203.09998142, 43880.47654891, 44557.85311639, 45235.22968388,\n",
       "        45912.60625136, 46589.98281884, 47267.35938633, 47944.73595381,\n",
       "        48622.1125213 , 49299.48908878, 49976.86565626, 50654.24222375,\n",
       "        51331.61879123, 52008.99535872, 52686.3719262 , 53363.74849368,\n",
       "        54041.12506117, 54718.50162865, 55395.87819614, 56073.25476362,\n",
       "        56750.6313311 , 57428.00789859, 58105.38446607, 58782.76103356,\n",
       "        59460.13760104]),\n",
       " <a list of 40 Patch objects>)"
      ]
     },
     "execution_count": 17,
     "metadata": {},
     "output_type": "execute_result"
    },
    {
     "data": {
      "image/png": "[encoded data removed]",
      "text/plain": [
       "<Figure size 432x288 with 1 Axes>"
      ]
     },
     "metadata": {
      "needs_background": "light"
     },
     "output_type": "display_data"
    }
   ],
   "source": [
    "import matplotlib.pyplot as plt\n",
    "plt.subplot(211)\n",
    "plt.hist(X, bins = 40)\n"
   ]
  },
  {
   "cell_type": "code",
   "execution_count": 306,
   "metadata": {},
   "outputs": [
    {
     "data": {
      "text/plain": [
       "(array([  2.,   0.,   5.,  12.,  51.,  37.,  40.,  66., 176., 104.,  94.,\n",
       "         92., 179.,  41.,  41.,  33.,  21.,   4.,   1.,   1.]),\n",
       " array([30.  , 31.25, 32.5 , 33.75, 35.  , 36.25, 37.5 , 38.75, 40.  ,\n",
       "        41.25, 42.5 , 43.75, 45.  , 46.25, 47.5 , 48.75, 50.  , 51.25,\n",
       "        52.5 , 53.75, 55.  ]),\n",
       " <a list of 20 Patch objects>)"
      ]
     },
     "execution_count": 306,
     "metadata": {},
     "output_type": "execute_result"
    },
    {
     "data": {
      "image/png": "[encoded data removed]",
      "text/plain": [
       "<Figure size 432x288 with 1 Axes>"
      ]
     },
     "metadata": {
      "needs_background": "light"
     },
     "output_type": "display_data"
    }
   ],
   "source": [
    "plt.hist(y, bins = 20, color= 'orange')\n"
   ]
  },
  {
   "cell_type": "markdown",
   "metadata": {},
   "source": [
    "### Q4. Training a linear regression model\n",
    "\n",
    "We want to fit a linear regression model to our data, that is to say we want to find the best parameters a and b such that:\n",
    "\n",
    "for each individual i we get the smaller loss: ( target_i - prediction_i )^2\n",
    "\n",
    "where target_i = age_i and prediction_i = a * salary_i + b\n",
    "\n",
    "The difference target_i - prediction_i computes the error between data and what our model predicts. We take it to the power of 2 in order to increase much more the loss when the error is important. Also the function x squared gives a positive error easier to work with and it is differentiable.\n",
    "\n",
    "The loss of our model will be the sum over all individuals of these ( target_i - prediction_i )^2\n",
    "\n",
    "$loss(a,b) = \\frac{1}{1000}\\sum_{i = 1}^{1000} (y_i - a * X_i - b )^2$\n",
    "\n",
    "This loss is designed to be sure that if succeed to find a and b such that this loss is low then it implies that error between our predictions and reality (data) will be small overall (for pretty much every individuals). It is also a <strong>metric</strong> called <strong>RMSE</strong> used to evaluate models and compare performances."
   ]
  },
  {
   "cell_type": "code",
   "execution_count": 19,
   "metadata": {},
   "outputs": [],
   "source": [
    "def loss(X,y,a,b):\n",
    "    loss_= 0.001 * sum([(y[i] - a*X[i]-b)**2 for i in range(0,1000)])\n",
    "    \n",
    "    return loss_"
   ]
  },
  {
   "cell_type": "code",
   "execution_count": 20,
   "metadata": {},
   "outputs": [
    {
     "data": {
      "text/plain": [
       "4.595627394920766"
      ]
     },
     "execution_count": 20,
     "metadata": {},
     "output_type": "execute_result"
    }
   ],
   "source": [
    "loss(X,y,0.001,-4)"
   ]
  },
  {
   "cell_type": "code",
   "execution_count": 21,
   "metadata": {},
   "outputs": [],
   "source": [
    "def grad_loss(X,y,a,b):\n",
    "\n",
    "    grad_a = 0.001*sum([-2*X[i]*(y[i]-a*X[i]-b) for i in range(0,1000)])\n",
    "    grad_b = 0.001*sum([-2*(y[i]-a*X[i]-b) for i in range(0,1000)])\n",
    "    return grad_a, grad_b"
   ]
  },
  {
   "cell_type": "code",
   "execution_count": 22,
   "metadata": {},
   "outputs": [
    {
     "data": {
      "text/plain": [
       "(-35897.62531697963, -0.9917873963732984)"
      ]
     },
     "execution_count": 22,
     "metadata": {},
     "output_type": "execute_result"
    }
   ],
   "source": [
    "grad_loss(X,y,0.001,-4)"
   ]
  },
  {
   "cell_type": "code",
   "execution_count": 23,
   "metadata": {},
   "outputs": [
    {
     "name": "stdout",
     "output_type": "stream",
     "text": [
      "4.595627394920766\n",
      "2.4787462436254954e+17\n"
     ]
    }
   ],
   "source": [
    "alpha = 0.3\n",
    "a, b = 0.001, -4. #initial values\n",
    "\n",
    "print(loss(X,y,a,b))\n",
    "grad_a, grad_b = grad_loss(X,y,a, b)\n",
    "a -= alpha * grad_a\n",
    "b -= alpha * grad_b\n",
    "print(loss(X,y,a,b))"
   ]
  },
  {
   "cell_type": "markdown",
   "metadata": {},
   "source": [
    "OUPS! It did not work due to a problem of scale, our gradient exploded. First due to high values like salary the algo is more prone to diverge. Also if features are not on the same scale like here salary has huge variations >10000 then we ll get issues.\n",
    "That is why in machine learning, during a phase called <strong>preprocessing</strong> (= before training) we always rescale our data either between 0 and 1 or between -1 and 1. Two most popular ways are <strong>standardization</strong> and <strong>normalization</strong>. We will do standardization.\n",
    "\n",
    "We transform our feature X such that $X \\longleftarrow \\frac{X - min(X)}{max(X) - min(X)}$\n",
    "\n",
    "Create a function which takes an entry x and returns the formula above, then apply it to X and stock the output in a new feature variable called <strong>X_std</strong>"
   ]
  },
  {
   "cell_type": "code",
   "execution_count": 25,
   "metadata": {},
   "outputs": [],
   "source": [
    "X_std =[(X[i] - min(X))/(max(X) - min(X)) for i in range(0,1000)]"
   ]
  },
  {
   "cell_type": "code",
   "execution_count": 26,
   "metadata": {},
   "outputs": [
    {
     "name": "stdout",
     "output_type": "stream",
     "text": [
      "2177.7090203205416\n",
      "133.13246090702594\n"
     ]
    }
   ],
   "source": [
    "alpha = 0.3\n",
    "a, b = 0.001, -4.\n",
    "\n",
    "print(loss(X_std,y,a,b))\n",
    "grad_a, grad_b = grad_loss(X_std,y,a, b)\n",
    "a -= alpha * grad_a\n",
    "b -= alpha * grad_b\n",
    "print(loss(X_std,y,a,b))"
   ]
  },
  {
   "cell_type": "markdown",
   "metadata": {},
   "source": [
    "Now it should have worked. \n",
    "\n",
    "Then create a function training which takes 2 values X, y, a, b, alpha, tol as entries and returns optimal a and b.\n",
    "\n",
    "The code should be similar as the one used for the GD algo over the function x squared. \n",
    "\n",
    "alpha being again the learning rate and tol being the parameter used to stop (it was 1e-1 in previous GD)"
   ]
  },
  {
   "cell_type": "code",
   "execution_count": 28,
   "metadata": {},
   "outputs": [],
   "source": [
    "def training(X, y, a, b, alpha, tol ):\n",
    "    k=0\n",
    "    grad_a = a\n",
    "    grad_b = b\n",
    "    loss_historics =[]\n",
    "    while True: #np.linalg.norm([grad_a,grad_b])>tol:\n",
    "        #compute loss\n",
    "        loss_ =loss(X,y,a,b)\n",
    "        #compute gradient\n",
    "        grad_a, grad_b = grad_loss(X,y,a,b)\n",
    "        #GD update\n",
    "        a = a-alpha * grad_a\n",
    "        b = b- alpha * grad_b\n",
    "        #stock loss\n",
    "        \n",
    "        loss_historics.append(loss_)\n",
    "        #loss_historics += [loss_]\n",
    "        k =+1  \n",
    "        if np.linalg.norm([grad_a,grad_b])<tol:\n",
    "            break\n",
    "    \n",
    "    return a,b,loss_historics"
   ]
  },
  {
   "cell_type": "code",
   "execution_count": 29,
   "metadata": {},
   "outputs": [
    {
     "name": "stdout",
     "output_type": "stream",
     "text": [
      "19.60676004738895 32.640808088325166 [2290.666236474415, 139.84725897845905, 11.370754651772357, 3.695683923154463, 3.2365139466391697, 3.2083929140563043, 3.2060379992624433]\n"
     ]
    }
   ],
   "source": [
    "a_opt, b_opt, loss_h = training(X_std,y,0.003,-5.2,0.3,0.1)\n",
    "print(a_opt, b_opt, loss_h)"
   ]
  },
  {
   "cell_type": "code",
   "execution_count": 30,
   "metadata": {},
   "outputs": [],
   "source": [
    "m = training(X_std,y,0.003,-5.2,0.3,0.1)[2]"
   ]
  },
  {
   "cell_type": "markdown",
   "metadata": {},
   "source": [
    "A common visualization tool to check if our model is learning correctly is the <strong>learning curve</strong>.\n",
    "\n",
    "You should adapt the previous code in order to output list with loss evaluation after each update so that you can plot a graph with loss values as y and iterations k as x."
   ]
  },
  {
   "cell_type": "code",
   "execution_count": 31,
   "metadata": {},
   "outputs": [
    {
     "data": {
      "text/plain": [
       "[<matplotlib.lines.Line2D at 0x11bbba29cf8>]"
      ]
     },
     "execution_count": 31,
     "metadata": {},
     "output_type": "execute_result"
    },
    {
     "data": {
      "image/png": "[encoded data removed]",
      "text/plain": [
       "<Figure size 432x288 with 1 Axes>"
      ]
     },
     "metadata": {
      "needs_background": "light"
     },
     "output_type": "display_data"
    }
   ],
   "source": [
    "plt.xlabel('iteration')\n",
    "plt.ylabel('loss_value')\n",
    "plt.title('learning curve')\n",
    "n = range(7)\n",
    "plt.plot(n, m)\n"
   ]
  },
  {
   "cell_type": "markdown",
   "metadata": {},
   "source": [
    "Finally we create a function age_prediction with returns predicted age making use of our computed optimal parameters a and b.\n",
    "\n",
    "The problem is that we standardized X therefore in our model salary is reduced between 0 and 1. To use our model we have to appy standardization function to salary. We have to adapt previous standardization function."
   ]
  },
  {
   "cell_type": "code",
   "execution_count": 32,
   "metadata": {},
   "outputs": [],
   "source": [
    "def standardization(salary,X):\n",
    "    return (salary-np.min(X))/(np.max(X)-np.min(X))\n"
   ]
  },
  {
   "cell_type": "code",
   "execution_count": 33,
   "metadata": {},
   "outputs": [],
   "source": [
    "def age_prediction(salary,X):\n",
    "    \n",
    "    predicted_age = a_opt*standardization(salary,X)+b_opt\n",
    "   \n",
    "    return predicted_age"
   ]
  },
  {
   "cell_type": "code",
   "execution_count": 34,
   "metadata": {},
   "outputs": [
    {
     "name": "stdout",
     "output_type": "stream",
     "text": [
      "target =  44  | our prediction:  44.66673621640389\n"
     ]
    }
   ],
   "source": [
    "print(\"target = \", y[0], \" | our prediction: \", age_prediction(48984,X))"
   ]
  },
  {
   "cell_type": "markdown",
   "metadata": {},
   "source": [
    "Here we can check that our model fits well the data:"
   ]
  },
  {
   "cell_type": "code",
   "execution_count": 35,
   "metadata": {},
   "outputs": [
    {
     "name": "stdout",
     "output_type": "stream",
     "text": [
      "target =  44  | our prediction:  44.66673621640389\n"
     ]
    }
   ],
   "source": [
    "print(\"target = \", y[0], \" | our prediction: \", age_prediction(48984,X))"
   ]
  },
  {
   "cell_type": "code",
   "execution_count": 36,
   "metadata": {},
   "outputs": [
    {
     "name": "stdout",
     "output_type": "stream",
     "text": [
      "target =  49  | our prediction:  50.01724547334753\n"
     ]
    }
   ],
   "source": [
    "print(\"target = \", y[2], \" | our prediction: \", age_prediction(56378,X))"
   ]
  }
 ],
 "metadata": {
  "kernelspec": {
   "display_name": "Python 3",
   "language": "python",
   "name": "python3"
  },
  "language_info": {
   "codemirror_mode": {
    "name": "ipython",
    "version": 3
   },
   "file_extension": ".py",
   "mimetype": "text/x-python",
   "name": "python",
   "nbconvert_exporter": "python",
   "pygments_lexer": "ipython3",
   "version": "3.7.3"
  }
 },
 "nbformat": 4,
 "nbformat_minor": 2
}
